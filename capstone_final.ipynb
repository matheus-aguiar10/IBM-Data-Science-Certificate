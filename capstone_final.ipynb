{
 "cells": [
  {
   "cell_type": "code",
   "execution_count": 76,
   "metadata": {},
   "outputs": [
    {
     "name": "stdout",
     "output_type": "stream",
     "text": [
      "Notebook already signed: capstone_final.ipynb\n"
     ]
    }
   ],
   "source": [
    "! jupyter trust capstone_final.ipynb"
   ]
  },
  {
   "cell_type": "markdown",
   "metadata": {},
   "source": [
    "# Capstone Project - The Battle of the Neighborhoods "
   ]
  },
  {
   "cell_type": "markdown",
   "metadata": {},
   "source": [
    "## Introduction: Business Problem"
   ]
  },
  {
   "cell_type": "markdown",
   "metadata": {},
   "source": [
    "In this project we will try to find an optimal location for a restaurant. Specifically, this report will be targeted to stakeholders interested in opening an **Italian restaurant** or an **Japanese restaurant**, in **Toronto**, Canada.\n",
    "\n",
    "Since there are lots of restaurants there we will try to detect locations that are common avenues or streets that the people go to eat. We would also prefer locations **as close to city center as possible** or **the locations where there is a large flow of people**. We will try to show which type of restaurant is better to open and where is the best place to open it.\n"
   ]
  },
  {
   "cell_type": "markdown",
   "metadata": {},
   "source": [
    "## Data"
   ]
  },
  {
   "cell_type": "markdown",
   "metadata": {},
   "source": [
    "Based on our business problem, factors that will influence our decission are:\n",
    "* number of existing restaurants \n",
    "* number of and distance to Italian/Japanese restaurants in the neighborhood, if any\n",
    "* distance of the restaurant from city center or an location where is a large flow of people\n",
    "\n",
    "Following data sources will be needed to extract/generate the required information:\n",
    "* centers of candidate areas will be generated algorithmically and approximate addresses of centers of those areas will be obtained using **Foursquare API**"
   ]
  },
  {
   "cell_type": "code",
   "execution_count": 73,
   "metadata": {},
   "outputs": [
    {
     "name": "stdout",
     "output_type": "stream",
     "text": [
      "Requirement already satisfied: BeautifulSoup4 in c:\\users\\user\\anaconda3\\lib\\site-packages (4.8.2)\n",
      "Requirement already satisfied: soupsieve>=1.2 in c:\\users\\user\\anaconda3\\lib\\site-packages (from BeautifulSoup4) (1.9.5)\n",
      "Requirement already satisfied: requests in c:\\users\\user\\anaconda3\\lib\\site-packages (2.22.0)\n",
      "Requirement already satisfied: certifi>=2017.4.17 in c:\\users\\user\\anaconda3\\lib\\site-packages (from requests) (2019.11.28)\n",
      "Requirement already satisfied: idna<2.9,>=2.5 in c:\\users\\user\\anaconda3\\lib\\site-packages (from requests) (2.8)\n",
      "Requirement already satisfied: urllib3!=1.25.0,!=1.25.1,<1.26,>=1.21.1 in c:\\users\\user\\anaconda3\\lib\\site-packages (from requests) (1.25.8)\n",
      "Requirement already satisfied: chardet<3.1.0,>=3.0.2 in c:\\users\\user\\anaconda3\\lib\\site-packages (from requests) (3.0.4)\n"
     ]
    }
   ],
   "source": [
    "!pip install BeautifulSoup4\n",
    "!pip install requests"
   ]
  },
  {
   "cell_type": "code",
   "execution_count": null,
   "metadata": {},
   "outputs": [],
   "source": [
    "#Importing Libraries\n",
    "\n",
    "from bs4 import BeautifulSoup\n",
    "import pandas as pd\n",
    "import numpy as np\n",
    "import requests\n",
    "import folium \n",
    "\n",
    "from sklearn.cluster import KMeans\n",
    "from geopy.geocoders import Nominatim \n",
    "\n",
    "import matplotlib.cm as cm\n",
    "import matplotlib.colors as colors"
   ]
  },
  {
   "cell_type": "code",
   "execution_count": null,
   "metadata": {},
   "outputs": [],
   "source": [
    "#Latitude and Longitude values\n",
    "\n",
    "address = \"Toronto, ON\"\n",
    "\n",
    "geolocator = Nominatim(user_agent=\"toronto_explorer\")\n",
    "location = geolocator.geocode(address)\n",
    "latitude = location.latitude\n",
    "longitude = location.longitude\n",
    "print('The geograpical coordinate of Toronto city are {}, {}.'.format(latitude, longitude))"
   ]
  },
  {
   "cell_type": "code",
   "execution_count": null,
   "metadata": {},
   "outputs": [],
   "source": [
    "#Creating a map\n",
    "\n",
    "map_toronto = folium.Map(location=[latitude, longitude], zoom_start=10)\n",
    "map_toronto"
   ]
  },
  {
   "cell_type": "code",
   "execution_count": null,
   "metadata": {},
   "outputs": [],
   "source": [
    "#Foursquare Credentials\n",
    "\n",
    "CLIENT_ID = 'VBCNKVIQHD2JM4E5VDNEK2N3TSAQ4TEXEBJ0S5QA54YLEIT1'\n",
    "CLIENT_SECRET = 'N1X3FYWEKSQQD5YSYYZ2UHUAZDJGDV01VPIIKIEVIC0SDNKH'\n",
    "VERSION = '20180604'"
   ]
  },
  {
   "cell_type": "code",
   "execution_count": null,
   "metadata": {},
   "outputs": [],
   "source": [
    "#Searching for japanese restaurants in Toronto\n",
    "\n",
    "search_query = 'japanese'\n",
    "LIMIT = 200 # limit of number of venues returned by Foursquare API\n",
    "radius = 1500 # define radius\n",
    "url = 'https://api.foursquare.com/v2/venues/explore?&client_id={}&client_secret={}&v={}&query={}&ll={},{}&radius={}&limit={}'.format(\n",
    "    CLIENT_ID, \n",
    "    CLIENT_SECRET, \n",
    "    VERSION,\n",
    "    search_query,\n",
    "    latitude, \n",
    "    longitude, \n",
    "    radius, \n",
    "    LIMIT)\n",
    "\n",
    "# get the result to a json file\n",
    "results = requests.get(url).json()\n",
    "results"
   ]
  },
  {
   "cell_type": "code",
   "execution_count": null,
   "metadata": {},
   "outputs": [],
   "source": [
    "# function that extracts the category of the venue\n",
    "def get_category_type(row):\n",
    "    try:\n",
    "        categories_list = row['categories']\n",
    "    except:\n",
    "        categories_list = row['venue.categories']\n",
    "        \n",
    "    if len(categories_list) == 0:\n",
    "        return None\n",
    "    else:\n",
    "        return categories_list[0]['name']"
   ]
  },
  {
   "cell_type": "code",
   "execution_count": null,
   "metadata": {},
   "outputs": [],
   "source": [
    "venues = results['response']['groups'][0]['items']\n",
    "    \n",
    "jap_venues = pd.json_normalize(venues) # flatten JSON\n",
    "\n",
    "# filter columns\n",
    "filtered_columns = ['venue.name', 'venue.categories', 'venue.location.lat', 'venue.location.lng']\n",
    "jap_venues = jap_venues.loc[:, filtered_columns]\n",
    "\n",
    "# filter the category for each row\n",
    "jap_venues['venue.categories'] = jap_venues.apply(get_category_type, axis=1)\n",
    "\n",
    "# clean columns\n",
    "jap_venues.columns = [col.split(\".\")[-1] for col in jap_venues.columns]\n",
    "\n",
    "jap_venues.head()"
   ]
  },
  {
   "cell_type": "code",
   "execution_count": null,
   "metadata": {},
   "outputs": [],
   "source": [
    "#Checking how many places we have\n",
    "\n",
    "print('{} venues were returned by Foursquare.'.format(jap_venues.shape[0]))"
   ]
  },
  {
   "cell_type": "code",
   "execution_count": null,
   "metadata": {
    "scrolled": true
   },
   "outputs": [],
   "source": [
    "#Creating a map to see where the restaurants are\n",
    "\n",
    "map_toronto_jap = folium.Map(location=[latitude, longitude], zoom_start=12)\n",
    "for lat, lng, categories, name in zip(\n",
    "        jap_venues['lat'], \n",
    "        jap_venues['lng'], \n",
    "        jap_venues['categories'], \n",
    "        jap_venues['name']):\n",
    "    label = '{}, {}'.format(categories, name)\n",
    "    label = folium.Popup(label, parse_html=True)\n",
    "    folium.CircleMarker(\n",
    "        [lat, lng],\n",
    "        radius=5,\n",
    "        popup=label,\n",
    "        color='red',\n",
    "        fill=True,\n",
    "        fill_color='#3186cc',\n",
    "        fill_opacity=0.7,\n",
    "        parse_html=False).add_to(map_toronto_jap)  \n",
    "\n",
    "map_toronto_jap"
   ]
  },
  {
   "cell_type": "markdown",
   "metadata": {},
   "source": [
    "Here we can see that we have a big concentration of japanese restaurantes Downtown and most of them are located on the same street, which is Dundas Street. Also, near to the financial district we have the 2nd most common neighborhood of restaurants. Basically, we have many options of restaurants in the city. Usually, no matter where, they are always very close. The competition between Japanese restaurants is very large, as they have many options and are located very close. But we will see."
   ]
  },
  {
   "cell_type": "code",
   "execution_count": null,
   "metadata": {},
   "outputs": [],
   "source": [
    "#Searching for japanese restaurants in Toronto\n",
    "\n",
    "search_query = 'italian'\n",
    "LIMIT = 200 # limit of number of venues returned by Foursquare API\n",
    "radius = 1500 # define radius\n",
    "url = 'https://api.foursquare.com/v2/venues/explore?&client_id={}&client_secret={}&v={}&query={}&ll={},{}&radius={}&limit={}'.format(\n",
    "    CLIENT_ID, \n",
    "    CLIENT_SECRET, \n",
    "    VERSION,\n",
    "    search_query,\n",
    "    latitude, \n",
    "    longitude, \n",
    "    radius, \n",
    "    LIMIT)\n",
    "\n",
    "# get the result to a json file\n",
    "results = requests.get(url).json()\n",
    "results"
   ]
  },
  {
   "cell_type": "code",
   "execution_count": null,
   "metadata": {},
   "outputs": [],
   "source": [
    "# function that extracts the category of the venue\n",
    "def get_category_type(row):\n",
    "    try:\n",
    "        categories_list = row['categories']\n",
    "    except:\n",
    "        categories_list = row['venue.categories']\n",
    "        \n",
    "    if len(categories_list) == 0:\n",
    "        return None\n",
    "    else:\n",
    "        return categories_list[0]['name']"
   ]
  },
  {
   "cell_type": "code",
   "execution_count": null,
   "metadata": {},
   "outputs": [],
   "source": [
    "venues = results['response']['groups'][0]['items']\n",
    "    \n",
    "italian_venues = pd.json_normalize(venues) # flatten JSON\n",
    "\n",
    "# filter columns\n",
    "filtered_columns = ['venue.name', 'venue.categories', 'venue.location.lat', 'venue.location.lng']\n",
    "italian_venues = italian_venues.loc[:, filtered_columns]\n",
    "\n",
    "# filter the category for each row\n",
    "italian_venues['venue.categories'] = italian_venues.apply(get_category_type, axis=1)\n",
    "\n",
    "# clean columns\n",
    "italian_venues.columns = [col.split(\".\")[-1] for col in italian_venues.columns]\n",
    "\n",
    "italian_venues.head()"
   ]
  },
  {
   "cell_type": "code",
   "execution_count": null,
   "metadata": {},
   "outputs": [],
   "source": [
    "print('{} venues were returned by Foursquare.'.format(italian_venues.shape[0]))"
   ]
  },
  {
   "cell_type": "code",
   "execution_count": null,
   "metadata": {
    "scrolled": true
   },
   "outputs": [],
   "source": [
    "map_toronto_italian = folium.Map(location=[latitude, longitude], zoom_start=12)\n",
    "for lat, lng, categories, name in zip(\n",
    "        italian_venues['lat'], \n",
    "        italian_venues['lng'], \n",
    "        italian_venues['categories'], \n",
    "        italian_venues['name']):\n",
    "    label = '{}, {}'.format(categories, name)\n",
    "    label = folium.Popup(label, parse_html=True)\n",
    "    folium.CircleMarker(\n",
    "        [lat, lng],\n",
    "        radius=5,\n",
    "        popup=label,\n",
    "        color='blue',\n",
    "        fill=True,\n",
    "        fill_color='#3186cc',\n",
    "        fill_opacity=0.7,\n",
    "        parse_html=False).add_to(map_toronto_italian)  \n",
    "\n",
    "map_toronto_italian"
   ]
  },
  {
   "cell_type": "markdown",
   "metadata": {},
   "source": [
    "For the italian restaurants, we have 82 options. They are not equally distributed. We have some options Downtown Toronto and most of them are in the south, in the neighborhood where is the financial district. We could say that these 2 neighborhoods are the most common places where the restaurants are. For sure, these are the areas where there is a large flow of people. The distance between Italian restaurants is greater than the distance between Japanese restaurants. Another point in favor of Italian restaurants is that there are fewer options, so the competition tends to be less."
   ]
  },
  {
   "cell_type": "markdown",
   "metadata": {},
   "source": [
    "Now, we will see how many options of restaurant we have in the city, and the ones that are the most common. "
   ]
  },
  {
   "cell_type": "code",
   "execution_count": null,
   "metadata": {},
   "outputs": [],
   "source": [
    "#Searching for restaurants in Toronto\n",
    "\n",
    "search_query = 'restaurants'\n",
    "LIMIT = 400 # limit of number of venues returned by Foursquare API\n",
    "radius = 1500 # define radius\n",
    "url = 'https://api.foursquare.com/v2/venues/explore?&client_id={}&client_secret={}&v={}&query={}&ll={},{}&radius={}&limit={}'.format(\n",
    "    CLIENT_ID, \n",
    "    CLIENT_SECRET, \n",
    "    VERSION,\n",
    "    search_query,\n",
    "    latitude, \n",
    "    longitude, \n",
    "    radius, \n",
    "    LIMIT)\n",
    "\n",
    "# get the result to a json file\n",
    "results = requests.get(url).json()\n",
    "results"
   ]
  },
  {
   "cell_type": "code",
   "execution_count": null,
   "metadata": {},
   "outputs": [],
   "source": [
    "venues = results['response']['groups'][0]['items']\n",
    "    \n",
    "rest_venues = pd.json_normalize(venues) # flatten JSON\n",
    "\n",
    "# filter columns\n",
    "filtered_columns = ['venue.name', 'venue.categories', 'venue.location.lat', 'venue.location.lng']\n",
    "rest_venues = rest_venues.loc[:, filtered_columns]\n",
    "\n",
    "# filter the category for each row\n",
    "rest_venues['venue.categories'] = rest_venues.apply(get_category_type, axis=1)\n",
    "\n",
    "# clean columns\n",
    "rest_venues.columns = [col.split(\".\")[-1] for col in rest_venues.columns]\n",
    "\n",
    "rest_venues.head()"
   ]
  },
  {
   "cell_type": "code",
   "execution_count": null,
   "metadata": {},
   "outputs": [],
   "source": [
    "print('{} venues were returned by Foursquare.'.format(rest_venues.shape[0]))"
   ]
  },
  {
   "cell_type": "code",
   "execution_count": null,
   "metadata": {},
   "outputs": [],
   "source": [
    "#Getting only the categories of restaurants\n",
    "\n",
    "rest_cat = rest_venues['categories']\n",
    "rest_cat"
   ]
  },
  {
   "cell_type": "code",
   "execution_count": null,
   "metadata": {},
   "outputs": [],
   "source": [
    "#Checking under 100 which types of restaurant are most common\n",
    "\n",
    "rest_cat.value_counts()"
   ]
  },
  {
   "cell_type": "markdown",
   "metadata": {},
   "source": [
    "Based on 100 restaurants, we have 11 restaurants that we do not specified what kind of food they serve. So, we will not consider it. We can see that after Coffee Shop, Italian and Japanese restaurants are the most common kinds of place we have in Toronto. "
   ]
  },
  {
   "cell_type": "code",
   "execution_count": null,
   "metadata": {},
   "outputs": [],
   "source": [
    "#Taking off Japanese and Italian Restaurants\n",
    "\n",
    "rest_venues_edit = rest_venues[(rest_venues.categories != 'Italian Restaurant') & (rest_venues.categories != 'Japanese Restaurant')]"
   ]
  },
  {
   "cell_type": "code",
   "execution_count": null,
   "metadata": {},
   "outputs": [],
   "source": [
    "rest_venues_edit.shape"
   ]
  },
  {
   "cell_type": "code",
   "execution_count": null,
   "metadata": {
    "scrolled": true
   },
   "outputs": [],
   "source": [
    "#Creating a map without Japanese and Italian restaurants\n",
    "\n",
    "map_toronto_all = folium.Map(location=[latitude, longitude], zoom_start=12)\n",
    "for lat, lng, categories, name in zip(\n",
    "        rest_venues_edit['lat'], \n",
    "        rest_venues_edit['lng'], \n",
    "        rest_venues_edit['categories'], \n",
    "        rest_venues_edit['name']):\n",
    "    label = '{}, {}'.format(categories, name)\n",
    "    label = folium.Popup(label, parse_html=True)\n",
    "    folium.CircleMarker(\n",
    "        [lat, lng],\n",
    "        radius=5,\n",
    "        popup=label,\n",
    "        color='blue',\n",
    "        fill=True,\n",
    "        fill_color='#3186cc',\n",
    "        fill_opacity=0.7,\n",
    "        parse_html=False).add_to(map_toronto_all)  \n",
    "\n",
    "map_toronto_all"
   ]
  },
  {
   "cell_type": "markdown",
   "metadata": {},
   "source": [
    "For the rest kinds of restaurant, we can state that the neighborhoods near to the financial district have a very high concentration. So, considering all restaurants, the competition there would be grater than the competition Downtown."
   ]
  },
  {
   "cell_type": "markdown",
   "metadata": {},
   "source": [
    "## Conclusion"
   ]
  },
  {
   "cell_type": "markdown",
   "metadata": {},
   "source": [
    "After plotting the 3 maps, first one only for Japanese Restaurants, second one for Italian Restaurants and the last one for the rest of kinds od restaurants, we got some insights that could help us and the stakeholders to take the decision. The questions for our problem are: Should I open an Japanese restaurant or an Italian restaurant? Where should I open it? \n",
    "\n",
    "For the first question, considering the competition and the type of food the city consumes, the option would be to open an Italian restaurant. First, competition is less and the distance between restaurants is greater. The concentration is not as great as that of a Japanese restaurant. Second, Italian food is among the 5 most consumed in the city.\n",
    "\n",
    "For the second question, if we are looking for a place to open a new restaurant, we have to consider the flow of people. There are a lot of companies located in the financial sector. During the week, monday to friday, the restaurants could sell more than the restaurants located Downtown. But considering the constancy of consumption, downtown would be the best option. First, there are few downtown Italian restaurant options and the distance between them is relatively large. Second, the financial district has a large volume of people during the week and on working days. If we take into account the holidays, and weekends, the volume of people and consumption there falls a lot. Another point is that, in addition to the normal flow of people downtown, tourists increase this even more. Few tourists visit the financial district. So the final decision would be to open an Italian restaurant downtown Toronto."
   ]
  }
 ],
 "metadata": {
  "kernelspec": {
   "display_name": "Python 3",
   "language": "python",
   "name": "python3"
  },
  "language_info": {
   "codemirror_mode": {
    "name": "ipython",
    "version": 3
   },
   "file_extension": ".py",
   "mimetype": "text/x-python",
   "name": "python",
   "nbconvert_exporter": "python",
   "pygments_lexer": "ipython3",
   "version": "3.7.6"
  }
 },
 "nbformat": 4,
 "nbformat_minor": 4
}
