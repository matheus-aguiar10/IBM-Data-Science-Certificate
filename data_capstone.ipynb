{
 "cells": [
  {
   "cell_type": "markdown",
   "metadata": {},
   "source": [
    "# Data"
   ]
  },
  {
   "cell_type": "markdown",
   "metadata": {},
   "source": [
    "Based on our business problem, factors that will influence our decission are:\n",
    "* number of existing restaurants \n",
    "* number of and distance to Italian/Japanese restaurants in the neighborhood, if any\n",
    "* distance of neighborhood from city center\n",
    "\n",
    "Following data sources will be needed to extract/generate the required information:\n",
    "* centers of candidate areas will be generated algorithmically and approximate addresses of centers of those areas will be obtained using **Foursquare API**"
   ]
  }
 ],
 "metadata": {
  "kernelspec": {
   "display_name": "Python 3",
   "language": "python",
   "name": "python3"
  },
  "language_info": {
   "codemirror_mode": {
    "name": "ipython",
    "version": 3
   },
   "file_extension": ".py",
   "mimetype": "text/x-python",
   "name": "python",
   "nbconvert_exporter": "python",
   "pygments_lexer": "ipython3",
   "version": "3.7.6"
  }
 },
 "nbformat": 4,
 "nbformat_minor": 4
}
